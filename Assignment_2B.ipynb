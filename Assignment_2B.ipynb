{
  "nbformat": 4,
  "nbformat_minor": 0,
  "metadata": {
    "colab": {
      "name": "Assignment 2B.ipynb",
      "version": "0.3.2",
      "provenance": [],
      "collapsed_sections": []
    },
    "kernelspec": {
      "name": "python3",
      "display_name": "Python 3"
    }
  },
  "cells": [
    {
      "metadata": {
        "id": "3hOqC-xIpxeZ",
        "colab_type": "code",
        "colab": {
          "base_uri": "https://localhost:8080/",
          "height": 374
        },
        "outputId": "2c68aa31-e7ae-4bea-da1e-888943ac32a7"
      },
      "cell_type": "code",
      "source": [
        "import numpy as np\n",
        "\n",
        "#sigmoid\n",
        "def sigmoid(x):\n",
        "  return (1/(1+np.exp(-x)))\n",
        "\n",
        "def derivatives_sigmoid(x):\n",
        "  return (x*(1-x))\n",
        "  \n",
        "def random_init(size, low=0.0, high=1.0):\n",
        "  return np.random.uniform(size=size, low=low, high=high)\n",
        "\n",
        "learning_rate = 0.1\n",
        "\n",
        "#Step 0\n",
        "X = np.array([[1,0,1,0],[1,0,1,1],[0,1,0,1]])\n",
        "y = np.array([[1],[1],[0]])\n",
        "\n",
        "#Step 1\n",
        "wh = random_init((4,3))\n",
        "bh = random_init((1,3))\n",
        "wout = random_init((3,1))\n",
        "bout = random_init((1,1))\n",
        "\n",
        "print(\"Input, X:\\n\",X)\n",
        "print(\"Target Output, y:\\n\",y)\n",
        "print(\"Hidden layer weight, wh:\\n\",wh)\n",
        "print(\"Hidden layer bias, bh:\\n\",bh)\n",
        "print(\"Output layer weight, wout:\\n\",wout)\n",
        "print(\"Hidden layer bias, bout:\\n\",bout)"
      ],
      "execution_count": 4,
      "outputs": [
        {
          "output_type": "stream",
          "text": [
            "Input, X:\n",
            " [[1 0 1 0]\n",
            " [1 0 1 1]\n",
            " [0 1 0 1]]\n",
            "Target Output, y:\n",
            " [[1]\n",
            " [1]\n",
            " [0]]\n",
            "Hidden layer weight, wh:\n",
            " [[0.52919399 0.70531672 0.15258913]\n",
            " [0.2280877  0.3858858  0.756813  ]\n",
            " [0.50458037 0.28456721 0.38408604]\n",
            " [0.03891137 0.47025442 0.59676471]]\n",
            "Hidden layer bias, bh:\n",
            " [[0.26064517 0.91777818 0.20565904]]\n",
            "Output layer weight, wout:\n",
            " [[0.22877682]\n",
            " [0.26468692]\n",
            " [0.62626389]]\n",
            "Hidden layer bias, bout:\n",
            " [[0.73695375]]\n"
          ],
          "name": "stdout"
        }
      ]
    },
    {
      "metadata": {
        "id": "khG1UJlF3qBu",
        "colab_type": "code",
        "colab": {
          "base_uri": "https://localhost:8080/",
          "height": 85
        },
        "outputId": "3685b059-423f-434b-e6dd-9816443c5044"
      },
      "cell_type": "code",
      "source": [
        "#Step 2\n",
        "hidden_layer_input = np.dot(X, wh) + bh\n",
        "print(\"Hidden layer input, hidden_layer_input:\\n\",hidden_layer_input)"
      ],
      "execution_count": 5,
      "outputs": [
        {
          "output_type": "stream",
          "text": [
            "Hidden layer input, hidden_layer_input:\n",
            " [[1.29441953 1.90766211 0.74233421]\n",
            " [1.3333309  2.37791653 1.33909892]\n",
            " [0.52764423 1.7739184  1.55923675]]\n"
          ],
          "name": "stdout"
        }
      ]
    },
    {
      "metadata": {
        "id": "fvB0Dm7d3zXv",
        "colab_type": "code",
        "colab": {
          "base_uri": "https://localhost:8080/",
          "height": 85
        },
        "outputId": "b86b788d-f3f3-4fa8-ffc5-781936adfac8"
      },
      "cell_type": "code",
      "source": [
        "#Step 3\n",
        "hiddenlayer_activations = sigmoid(hidden_layer_input)\n",
        "print(\"Hidden layer activation, hiddenlayer_activations:\\n\",hiddenlayer_activations)"
      ],
      "execution_count": 6,
      "outputs": [
        {
          "output_type": "stream",
          "text": [
            "Hidden layer activation, hiddenlayer_activations:\n",
            " [[0.7848943  0.87075627 0.67750607]\n",
            " [0.79139107 0.91512775 0.79234172]\n",
            " [0.6289335  0.85494429 0.8262438 ]]\n"
          ],
          "name": "stdout"
        }
      ]
    },
    {
      "metadata": {
        "id": "bPLTSCZI34Ul",
        "colab_type": "code",
        "colab": {
          "base_uri": "https://localhost:8080/",
          "height": 153
        },
        "outputId": "0a6ce853-04e5-4b34-c57b-205662293477"
      },
      "cell_type": "code",
      "source": [
        "#Step 4\n",
        "output_layer_input = np.dot(hiddenlayer_activations, wout ) + bout\n",
        "output = sigmoid(output_layer_input)\n",
        "print(\"Output layer input matrix, output_layer_input:\\n\",output_layer_input)\n",
        "print(\"Output layer output matrix, output:\\n\",output)"
      ],
      "execution_count": 7,
      "outputs": [
        {
          "output_type": "stream",
          "text": [
            "Output layer input matrix, output_layer_input:\n",
            " [[1.57129476]\n",
            " [1.65644304]\n",
            " [1.62457839]]\n",
            "Output layer output matrix, output:\n",
            " [[0.82796811]\n",
            " [0.83975995]\n",
            " [0.83542558]]\n"
          ],
          "name": "stdout"
        }
      ]
    },
    {
      "metadata": {
        "id": "sFfHgwaD37rb",
        "colab_type": "code",
        "colab": {
          "base_uri": "https://localhost:8080/",
          "height": 85
        },
        "outputId": "48f47f29-52ac-4fb0-ec35-b819828e31d0"
      },
      "cell_type": "code",
      "source": [
        "#Step 5\n",
        "E = y-output\n",
        "print(\"Error in training output, E:\\n\",E)"
      ],
      "execution_count": 8,
      "outputs": [
        {
          "output_type": "stream",
          "text": [
            "Error in training output, E:\n",
            " [[ 0.17203189]\n",
            " [ 0.16024005]\n",
            " [-0.83542558]]\n"
          ],
          "name": "stdout"
        }
      ]
    },
    {
      "metadata": {
        "id": "ZWQN6gjM3_mB",
        "colab_type": "code",
        "colab": {
          "base_uri": "https://localhost:8080/",
          "height": 153
        },
        "outputId": "200043ac-1d59-4cf2-d364-51ce488d0aa1"
      },
      "cell_type": "code",
      "source": [
        "#Step 6\n",
        "Slope_output_layer= derivatives_sigmoid(output)\n",
        "Slope_hidden_layer = derivatives_sigmoid(hiddenlayer_activations)\n",
        "print(\"Slope of output layer's output, Slope_output_layer:\\n\",Slope_output_layer)\n",
        "print(\"Slope of hidden layer's output , Slope_hidden_layer:\\n\",Slope_hidden_layer)"
      ],
      "execution_count": 9,
      "outputs": [
        {
          "output_type": "stream",
          "text": [
            "Slope of output layer's output, Slope_output_layer:\n",
            " [[0.14243692]\n",
            " [0.13456318]\n",
            " [0.13748968]]\n",
            "Slope of hidden layer's output , Slope_hidden_layer:\n",
            " [[0.16883524 0.11253979 0.21849159]\n",
            " [0.16509124 0.07766895 0.16453632]\n",
            " [0.23337615 0.12401455 0.14356498]]\n"
          ],
          "name": "stdout"
        }
      ]
    },
    {
      "metadata": {
        "id": "i6vE8JF64C_x",
        "colab_type": "code",
        "colab": {
          "base_uri": "https://localhost:8080/",
          "height": 85
        },
        "outputId": "2240ad18-3c43-4109-b17c-e1bd9d657fc9"
      },
      "cell_type": "code",
      "source": [
        "#Step 7\n",
        "d_output = E * Slope_output_layer * learning_rate\n",
        "print(\"Delta of output layer, d_output:\\n\",d_output)"
      ],
      "execution_count": 10,
      "outputs": [
        {
          "output_type": "stream",
          "text": [
            "Delta of output layer, d_output:\n",
            " [[ 0.00245037]\n",
            " [ 0.00215624]\n",
            " [-0.01148624]]\n"
          ],
          "name": "stdout"
        }
      ]
    },
    {
      "metadata": {
        "id": "aoYCfx2x4HNQ",
        "colab_type": "code",
        "colab": {
          "base_uri": "https://localhost:8080/",
          "height": 85
        },
        "outputId": "c3ae7d0b-7401-40b2-82a1-9de2406c5f6b"
      },
      "cell_type": "code",
      "source": [
        "#Step 8\n",
        "Error_at_hidden_layer = np.dot(d_output, wout.T)\n",
        "print(\"Error in hidden layer's output, Error_at_hidden_layer:\\n\",Error_at_hidden_layer)"
      ],
      "execution_count": 14,
      "outputs": [
        {
          "output_type": "stream",
          "text": [
            "Error in hidden layer's output, Error_at_hidden_layer:\n",
            " [[ 0.00056059  0.00064858  0.00153458]\n",
            " [ 0.0004933   0.00057073  0.00135038]\n",
            " [-0.00262779 -0.00304026 -0.00719342]]\n"
          ],
          "name": "stdout"
        }
      ]
    },
    {
      "metadata": {
        "id": "LkQ-5lku4LN0",
        "colab_type": "code",
        "colab": {
          "base_uri": "https://localhost:8080/",
          "height": 85
        },
        "outputId": "5cbbd8c0-ec9f-4a39-93cd-0141d14f98fa"
      },
      "cell_type": "code",
      "source": [
        "#Step 9\n",
        "d_hiddenlayer = Error_at_hidden_layer * Slope_hidden_layer\n",
        "print(\"Delta of hidden layer, d_hiddenlayer:\\n\",d_hiddenlayer)"
      ],
      "execution_count": 16,
      "outputs": [
        {
          "output_type": "stream",
          "text": [
            "Delta of hidden layer, d_hiddenlayer:\n",
            " [[ 9.46469568e-05  7.29911352e-05  3.35292347e-04]\n",
            " [ 8.14391791e-05  4.43279079e-05  2.22185887e-04]\n",
            " [-6.13262448e-04 -3.77036168e-04 -1.03272278e-03]]\n"
          ],
          "name": "stdout"
        }
      ]
    },
    {
      "metadata": {
        "id": "-Ulj2qF14OQk",
        "colab_type": "code",
        "colab": {
          "base_uri": "https://localhost:8080/",
          "height": 170
        },
        "outputId": "d35ac252-46cb-41a9-bfb8-cceb05ee8b6c"
      },
      "cell_type": "code",
      "source": [
        "#Step 10: Update weight at both output and hidden layer\n",
        "wout = wout + np.dot(np.transpose(hiddenlayer_activations), d_output) * learning_rate\n",
        "wh = wh+ np.dot(np.transpose(X), d_hiddenlayer) * learning_rate\n",
        "print(\"New Output layer weight, wout:\\n\",wout)\n",
        "print(\"New Hidden layer weight, wh:\\n\",wh)"
      ],
      "execution_count": 18,
      "outputs": [
        {
          "output_type": "stream",
          "text": [
            "New Output layer weight, wout:\n",
            " [[0.22805795]\n",
            " [0.26354429]\n",
            " [0.62503952]]\n",
            "New Hidden layer weight, wh:\n",
            " [[0.5292292  0.70534018 0.15270063]\n",
            " [0.22796505 0.38581039 0.75660646]\n",
            " [0.50461559 0.28459067 0.38419754]\n",
            " [0.038805   0.47018788 0.5966026 ]]\n"
          ],
          "name": "stdout"
        }
      ]
    },
    {
      "metadata": {
        "id": "cMZ3aClC4SpL",
        "colab_type": "code",
        "colab": {
          "base_uri": "https://localhost:8080/",
          "height": 85
        },
        "outputId": "9239aeb0-498d-4bc6-bc6b-62dd0b773f4e"
      },
      "cell_type": "code",
      "source": [
        "#Step 11: Update biases at both output and hidden layer\n",
        "bh = bh + np.sum(d_hiddenlayer, axis=0) * learning_rate\n",
        "bout = bout + np.sum(d_output, axis=0) * learning_rate\n",
        "print(\"New Output layer bias, bh:\\n\",bh)\n",
        "print(\"New Output layer bias, bout:\\n\",bout)"
      ],
      "execution_count": 19,
      "outputs": [
        {
          "output_type": "stream",
          "text": [
            "New Hidden layer bias, bh:\n",
            " [[0.26060145 0.91775221 0.20561152]]\n",
            "New Output layer bias, bout:\n",
            " [[0.73626579]]\n"
          ],
          "name": "stdout"
        }
      ]
    }
  ]
}
