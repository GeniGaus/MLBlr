{
  "nbformat": 4,
  "nbformat_minor": 0,
  "metadata": {
    "colab": {
      "name": "Test.ipynb",
      "version": "0.3.2",
      "provenance": [],
      "collapsed_sections": []
    },
    "kernelspec": {
      "name": "python3",
      "display_name": "Python 3"
    }
  },
  "cells": [
    {
      "cell_type": "markdown",
      "metadata": {
        "id": "view-in-github",
        "colab_type": "text"
      },
      "source": [
        "[View in Colaboratory](https://colab.research.google.com/github/GeniGaus/MLBlr/blob/master/ASSIGNMENT2B.ipynb)"
      ]
    },
    {
      "metadata": {
        "id": "3hOqC-xIpxeZ",
        "colab_type": "code",
        "colab": {
          "base_uri": "https://localhost:8080/",
          "height": 340
        },
        "outputId": "d871a336-0b66-4683-aed9-f751daee3e7a"
      },
      "cell_type": "code",
      "source": [
        "import numpy as np\n",
        "\n",
        "#sigmoid\n",
        "def sigmoid(x):\n",
        "  return (1/(1+np.exp(-x)))\n",
        "\n",
        "def derivatives_sigmoid(x):\n",
        "  return (x*(1-x))\n",
        "  \n",
        "def random_init(size, low=0.0, high=1.0):\n",
        "  return np.random.uniform(size=size, low=low, high=high)\n",
        "\n",
        "learning_rate = 0.1\n",
        "\n",
        "#Step 0\n",
        "X = np.array([[1,0,1,0],[1,0,1,1],[0,1,0,1]])\n",
        "y = np.array([1,1,0])\n",
        "\n",
        "#Step 1\n",
        "wh = random_init((4,3))\n",
        "bh = random_init((1,3))\n",
        "wout = random_init((3,1))\n",
        "bout = random_init((1,1))\n",
        "\n",
        "print(\"Input, X:\\n\",X)\n",
        "print(\"Target Output, y:\\n\",y)\n",
        "print(\"Hidden layer weight, wh:\\n\",wh)\n",
        "print(\"Hidden layer bias, bh:\\n\",bh)\n",
        "print(\"Output layer weight, wout:\\n\",wout)\n",
        "print(\"Hidden layer bias, bout:\\n\",bout)"
      ],
      "execution_count": 5,
      "outputs": [
        {
          "output_type": "stream",
          "text": [
            "Input, X:\n",
            " [[1 0 1 0]\n",
            " [1 0 1 1]\n",
            " [0 1 0 1]]\n",
            "Target Output, y:\n",
            " [1 1 0]\n",
            "Hidden layer weight, wh:\n",
            " [[0.77607807 0.31888591 0.89224266]\n",
            " [0.19516245 0.20622793 0.28196784]\n",
            " [0.22821902 0.70618933 0.80795593]\n",
            " [0.69571375 0.60144269 0.30560721]]\n",
            "Hidden layer bias, bh:\n",
            " [[0.52206785 0.15062619 0.79765256]]\n",
            "Output layer weight, wout:\n",
            " [[0.07400763]\n",
            " [0.97425401]\n",
            " [0.5487273 ]]\n",
            "Hidden layer bias, bout:\n",
            " [[0.16085333]]\n"
          ],
          "name": "stdout"
        }
      ]
    },
    {
      "metadata": {
        "id": "khG1UJlF3qBu",
        "colab_type": "code",
        "colab": {
          "base_uri": "https://localhost:8080/",
          "height": 85
        },
        "outputId": "690b2a7d-0c7d-4929-b182-48a6a7cf634e"
      },
      "cell_type": "code",
      "source": [
        "#Step 2\n",
        "hidden_layer_input = np.dot(X, wh) + bh\n",
        "print(\"Hidden layer input, hidden_layer_input:\\n\",hidden_layer_input)"
      ],
      "execution_count": 6,
      "outputs": [
        {
          "output_type": "stream",
          "text": [
            "Hidden layer input, hidden_layer_input:\n",
            " [[1.52636494 1.17570144 2.49785116]\n",
            " [2.22207869 1.77714413 2.80345837]\n",
            " [1.41294405 0.95829681 1.38522762]]\n"
          ],
          "name": "stdout"
        }
      ]
    },
    {
      "metadata": {
        "id": "fvB0Dm7d3zXv",
        "colab_type": "code",
        "colab": {
          "base_uri": "https://localhost:8080/",
          "height": 85
        },
        "outputId": "e4134160-1171-419c-c8b5-30f2a8dbc18e"
      },
      "cell_type": "code",
      "source": [
        "#Step 3\n",
        "hiddenlayer_activations = sigmoid(hidden_layer_input)\n",
        "print(\"Hidden layer activation, hiddenlayer_activations:\\n\",hiddenlayer_activations)"
      ],
      "execution_count": 7,
      "outputs": [
        {
          "output_type": "stream",
          "text": [
            "Hidden layer activation, hiddenlayer_activations:\n",
            " [[0.82147384 0.76417403 0.92399104]\n",
            " [0.90221474 0.85534387 0.94286242]\n",
            " [0.80422988 0.72278067 0.79982927]]\n"
          ],
          "name": "stdout"
        }
      ]
    },
    {
      "metadata": {
        "id": "bPLTSCZI34Ul",
        "colab_type": "code",
        "colab": {
          "base_uri": "https://localhost:8080/",
          "height": 153
        },
        "outputId": "92296185-8f6c-418e-8683-66e48734cbfb"
      },
      "cell_type": "code",
      "source": [
        "#Step 4\n",
        "output_layer_input = np.dot(hiddenlayer_activations, wout ) + bout\n",
        "output = sigmoid(output_layer_input)\n",
        "print(\"Output layer input matrix, output_layer_input:\\n\",output_layer_input)\n",
        "print(\"Output layer output matrix, output:\\n\",output)"
      ],
      "execution_count": 8,
      "outputs": [
        {
          "output_type": "stream",
          "text": [
            "Output layer input matrix, output_layer_input:\n",
            " [[1.47316738]\n",
            " [1.57832065]\n",
            " [1.36343259]]\n",
            "Output layer output matrix, output:\n",
            " [[0.81353834]\n",
            " [0.82896655]\n",
            " [0.79631702]]\n"
          ],
          "name": "stdout"
        }
      ]
    },
    {
      "metadata": {
        "id": "sFfHgwaD37rb",
        "colab_type": "code",
        "colab": {
          "base_uri": "https://localhost:8080/",
          "height": 85
        },
        "outputId": "b751e002-0551-4063-dcaa-818cd06d40b9"
      },
      "cell_type": "code",
      "source": [
        "#Step 5\n",
        "E = y-output\n",
        "print(\"Error in training output, E:\\n\",E)"
      ],
      "execution_count": 9,
      "outputs": [
        {
          "output_type": "stream",
          "text": [
            "Error in training output, E:\n",
            " [[ 0.18646166  0.18646166 -0.81353834]\n",
            " [ 0.17103345  0.17103345 -0.82896655]\n",
            " [ 0.20368298  0.20368298 -0.79631702]]\n"
          ],
          "name": "stdout"
        }
      ]
    },
    {
      "metadata": {
        "id": "ZWQN6gjM3_mB",
        "colab_type": "code",
        "colab": {
          "base_uri": "https://localhost:8080/",
          "height": 153
        },
        "outputId": "e92a5468-fb39-4a13-9bea-e85b8ced4903"
      },
      "cell_type": "code",
      "source": [
        "#Step 6\n",
        "Slope_output_layer= derivatives_sigmoid(output)\n",
        "Slope_hidden_layer = derivatives_sigmoid(hiddenlayer_activations)\n",
        "print(\"Slope of output layer's output, Slope_output_layer:\\n\",Slope_output_layer)\n",
        "print(\"Slope of hidden layer's output , Slope_hidden_layer:\\n\",Slope_hidden_layer)"
      ],
      "execution_count": 10,
      "outputs": [
        {
          "output_type": "stream",
          "text": [
            "Slope of output layer's output, Slope_output_layer:\n",
            " [[0.15169371]\n",
            " [0.14178101]\n",
            " [0.16219622]]\n",
            "Slope of hidden layer's output , Slope_hidden_layer:\n",
            " [[0.14665457 0.18021208 0.0702316 ]\n",
            " [0.0882233  0.12373074 0.05387288]\n",
            " [0.15744418 0.20036877 0.16010241]]\n"
          ],
          "name": "stdout"
        }
      ]
    },
    {
      "metadata": {
        "id": "i6vE8JF64C_x",
        "colab_type": "code",
        "colab": {
          "base_uri": "https://localhost:8080/",
          "height": 85
        },
        "outputId": "6fa8a8af-f372-4d62-a107-a259f69d40c8"
      },
      "cell_type": "code",
      "source": [
        "#Step 7\n",
        "d_output = E * Slope_output_layer * learning_rate\n",
        "print(\"Gradient descent of output layer, d_output:\\n\",d_output)"
      ],
      "execution_count": 11,
      "outputs": [
        {
          "output_type": "stream",
          "text": [
            "Gradient descent of output layer, d_output:\n",
            " [[ 0.00282851  0.00282851 -0.01234087]\n",
            " [ 0.00242493  0.00242493 -0.01175317]\n",
            " [ 0.00330366  0.00330366 -0.01291596]]\n"
          ],
          "name": "stdout"
        }
      ]
    },
    {
      "metadata": {
        "id": "aoYCfx2x4HNQ",
        "colab_type": "code",
        "colab": {
          "base_uri": "https://localhost:8080/",
          "height": 85
        },
        "outputId": "2627a272-19b1-45f4-9a5e-688a8413d51d"
      },
      "cell_type": "code",
      "source": [
        "#Step 8\n",
        "Error_at_hidden_layer = np.dot(d_output, wout)\n",
        "print(\"Error in hidden layer's output, Error_at_hidden_layer:\\n\",Error_at_hidden_layer)"
      ],
      "execution_count": 12,
      "outputs": [
        {
          "output_type": "stream",
          "text": [
            "Error in hidden layer's output, Error_at_hidden_layer:\n",
            " [[-0.00380675]\n",
            " [-0.00390733]\n",
            " [-0.00362424]]\n"
          ],
          "name": "stdout"
        }
      ]
    },
    {
      "metadata": {
        "id": "LkQ-5lku4LN0",
        "colab_type": "code",
        "colab": {
          "base_uri": "https://localhost:8080/",
          "height": 85
        },
        "outputId": "ade20241-95c4-44d2-9558-833a94fc2eee"
      },
      "cell_type": "code",
      "source": [
        "#Step 9\n",
        "d_hiddenlayer = Error_at_hidden_layer * Slope_hidden_layer\n",
        "print(\"Gradient descent of hidden layer, d_hiddenlayer:\\n\",d_hiddenlayer)"
      ],
      "execution_count": 13,
      "outputs": [
        {
          "output_type": "stream",
          "text": [
            "Gradient descent of hidden layer, d_hiddenlayer:\n",
            " [[-0.00055828 -0.00068602 -0.00026735]\n",
            " [-0.00034472 -0.00048346 -0.0002105 ]\n",
            " [-0.00057062 -0.00072618 -0.00058025]]\n"
          ],
          "name": "stdout"
        }
      ]
    },
    {
      "metadata": {
        "id": "-Ulj2qF14OQk",
        "colab_type": "code",
        "colab": {
          "base_uri": "https://localhost:8080/",
          "height": 170
        },
        "outputId": "2b90c28e-4ac6-43d9-9621-8271c8f1aec7"
      },
      "cell_type": "code",
      "source": [
        "#Step 10: Update weight at both output and hidden layer\n",
        "wout = wout + np.dot(np.transpose(hiddenlayer_activations), d_output) * learning_rate\n",
        "wh = wh+ np.dot(np.transpose(X), d_hiddenlayer) * learning_rate\n",
        "print(\"Output layer weight, wout:\\n\",wout)\n",
        "print(\"Hidden layer weight, wh:\\n\",wh)"
      ],
      "execution_count": 14,
      "outputs": [
        {
          "output_type": "stream",
          "text": [
            "Output layer weight, wout:\n",
            " [[0.07472446 0.07472446 0.07089473]\n",
            " [0.97491636 0.97491636 0.97137212]\n",
            " [0.54948152 0.54948152 0.54544579]]\n",
            "Hidden layer weight, wh:\n",
            " [[0.77598777 0.31876896 0.89219487]\n",
            " [0.19510538 0.20615531 0.28190982]\n",
            " [0.22812872 0.70607239 0.80790815]\n",
            " [0.69562222 0.60132172 0.30552814]]\n"
          ],
          "name": "stdout"
        }
      ]
    },
    {
      "metadata": {
        "id": "cMZ3aClC4SpL",
        "colab_type": "code",
        "colab": {
          "base_uri": "https://localhost:8080/",
          "height": 85
        },
        "outputId": "66a4b0dc-2e70-4410-ccc6-50a008e94cc9"
      },
      "cell_type": "code",
      "source": [
        "#Step 11: Update biases at both output and hidden layer\n",
        "bh = bh + np.sum(d_hiddenlayer, axis=0) * learning_rate\n",
        "bout = bout + np.sum(d_output, axis=0) * learning_rate\n",
        "print(\"Output layer bias, bh:\\n\",bh)\n",
        "print(\"Output layer bias, bout:\\n\",bout)"
      ],
      "execution_count": 15,
      "outputs": [
        {
          "output_type": "stream",
          "text": [
            "Output layer bias, bh:\n",
            " [[0.52192049 0.15043663 0.79754675]]\n",
            "Output layer bias, bout:\n",
            " [[0.16170904 0.16170904 0.15715233]]\n"
          ],
          "name": "stdout"
        }
      ]
    }
  ]
}